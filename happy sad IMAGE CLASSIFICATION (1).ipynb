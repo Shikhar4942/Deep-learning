{
 "cells": [
  {
   "cell_type": "code",
   "execution_count": null,
   "id": "9ca08ca7-28c8-4e83-8e77-cdaf1669bca9",
   "metadata": {
    "tags": []
   },
   "outputs": [],
   "source": []
  },
  {
   "cell_type": "code",
   "execution_count": 1,
   "id": "8b68a66d-0e6c-4720-851b-55512aaa4665",
   "metadata": {
    "tags": []
   },
   "outputs": [
    {
     "name": "stdout",
     "output_type": "stream",
     "text": [
      "WARNING:tensorflow:From C:\\Users\\Hp\\anaconda3\\Lib\\site-packages\\keras\\src\\losses.py:2976: The name tf.losses.sparse_softmax_cross_entropy is deprecated. Please use tf.compat.v1.losses.sparse_softmax_cross_entropy instead.\n",
      "\n"
     ]
    }
   ],
   "source": [
    "import tensorflow as tf\n",
    "import os"
   ]
  },
  {
   "cell_type": "code",
   "execution_count": 2,
   "id": "9f4a04e0-2624-4cab-ade0-009ce4deb70d",
   "metadata": {
    "tags": []
   },
   "outputs": [
    {
     "name": "stdout",
     "output_type": "stream",
     "text": [
      "Package                       Version\n",
      "----------------------------- ---------------\n",
      "absl-py                       2.1.0\n",
      "aiobotocore                   2.5.0\n",
      "aiofiles                      22.1.0\n",
      "aiohttp                       3.8.5\n",
      "aioitertools                  0.7.1\n",
      "aiosignal                     1.2.0\n",
      "aiosqlite                     0.18.0\n",
      "alabaster                     0.7.12\n",
      "anaconda-anon-usage           0.4.2\n",
      "anaconda-catalogs             0.2.0\n",
      "anaconda-client               1.12.1\n",
      "anaconda-cloud-auth           0.1.3\n",
      "anaconda-navigator            2.5.0\n",
      "anaconda-project              0.11.1\n",
      "anyio                         3.5.0\n",
      "appdirs                       1.4.4\n",
      "argon2-cffi                   21.3.0\n",
      "argon2-cffi-bindings          21.2.0\n",
      "arrow                         1.2.3\n",
      "astroid                       2.14.2\n",
      "astropy                       5.1\n",
      "asttokens                     2.0.5\n",
      "astunparse                    1.6.3\n",
      "async-timeout                 4.0.2\n",
      "atomicwrites                  1.4.0\n",
      "attrs                         22.1.0\n",
      "Automat                       20.2.0\n",
      "autopep8                      1.6.0\n",
      "Babel                         2.11.0\n",
      "backcall                      0.2.0\n",
      "backports.functools-lru-cache 1.6.4\n",
      "backports.tempfile            1.0\n",
      "backports.weakref             1.0.post1\n",
      "bcrypt                        3.2.0\n",
      "beautifulsoup4                4.12.2\n",
      "binaryornot                   0.4.4\n",
      "black                         0.0\n",
      "bleach                        4.1.0\n",
      "bokeh                         3.2.1\n",
      "boltons                       23.0.0\n",
      "botocore                      1.29.76\n",
      "Bottleneck                    1.3.5\n",
      "brotlipy                      0.7.0\n",
      "bs4                           0.0.1\n",
      "cachetools                    5.3.2\n",
      "certifi                       2023.7.22\n",
      "cffi                          1.15.1\n",
      "chardet                       4.0.0\n",
      "charset-normalizer            2.0.4\n",
      "click                         8.0.4\n",
      "cloudpickle                   2.2.1\n",
      "clyent                        1.2.2\n",
      "colorama                      0.4.6\n",
      "colorcet                      3.0.1\n",
      "comm                          0.1.2\n",
      "conda                         23.7.4\n",
      "conda-build                   3.26.1\n",
      "conda-content-trust           0.2.0\n",
      "conda_index                   0.3.0\n",
      "conda-libmamba-solver         23.7.0\n",
      "conda-pack                    0.6.0\n",
      "conda-package-handling        2.2.0\n",
      "conda_package_streaming       0.9.0\n",
      "conda-repo-cli                1.0.75\n",
      "conda-token                   0.4.0\n",
      "conda-verify                  3.4.2\n",
      "constantly                    15.1.0\n",
      "contourpy                     1.0.5\n",
      "cookiecutter                  1.7.3\n",
      "cryptography                  41.0.3\n",
      "cssselect                     1.1.0\n",
      "cycler                        0.11.0\n",
      "cytoolz                       0.12.0\n",
      "daal4py                       2023.1.1\n",
      "dask                          2023.6.0\n",
      "datasets                      2.12.0\n",
      "datashader                    0.15.2\n",
      "datashape                     0.5.4\n",
      "debugpy                       1.6.7\n",
      "decorator                     5.1.1\n",
      "defusedxml                    0.7.1\n",
      "diff-match-patch              20200713\n",
      "dill                          0.3.6\n",
      "distributed                   2023.6.0\n",
      "dm-tree                       0.1.8\n",
      "docstring-to-markdown         0.11\n",
      "docutils                      0.18.1\n",
      "entrypoints                   0.4\n",
      "et-xmlfile                    1.1.0\n",
      "executing                     0.8.3\n",
      "fastjsonschema                2.16.2\n",
      "filelock                      3.9.0\n",
      "flake8                        6.0.0\n",
      "Flask                         2.2.2\n",
      "flatbuffers                   23.5.26\n",
      "fonttools                     4.25.0\n",
      "frozenlist                    1.3.3\n",
      "fsspec                        2023.4.0\n",
      "future                        0.18.3\n",
      "gast                          0.5.4\n",
      "gensim                        4.3.0\n",
      "glob2                         0.7\n",
      "google-auth                   2.26.2\n",
      "google-auth-oauthlib          1.2.0\n",
      "google-pasta                  0.2.0\n",
      "greenlet                      2.0.1\n",
      "grpcio                        1.60.0\n",
      "h5py                          3.9.0\n",
      "HeapDict                      1.0.1\n",
      "holoviews                     1.17.1\n",
      "html5lib                      1.1\n",
      "huggingface-hub               0.15.1\n",
      "hvplot                        0.8.4\n",
      "hyperlink                     21.0.0\n",
      "idna                          3.4\n",
      "imagecodecs                   2023.1.23\n",
      "imageio                       2.26.0\n",
      "imagesize                     1.4.1\n",
      "imbalanced-learn              0.10.1\n",
      "importlib-metadata            6.0.0\n",
      "incremental                   21.3.0\n",
      "inflection                    0.5.1\n",
      "iniconfig                     1.1.1\n",
      "intake                        0.6.8\n",
      "intervaltree                  3.1.0\n",
      "ipykernel                     6.25.0\n",
      "ipython                       8.15.0\n",
      "ipython-genutils              0.2.0\n",
      "ipywidgets                    8.0.4\n",
      "isort                         5.9.3\n",
      "itemadapter                   0.3.0\n",
      "itemloaders                   1.0.4\n",
      "itsdangerous                  2.0.1\n",
      "jaraco.classes                3.2.1\n",
      "jedi                          0.18.1\n",
      "jellyfish                     1.0.1\n",
      "Jinja2                        3.1.2\n",
      "jinja2-time                   0.2.0\n",
      "jmespath                      0.10.0\n",
      "joblib                        1.2.0\n",
      "json5                         0.9.6\n",
      "jsonpatch                     1.32\n",
      "jsonpointer                   2.1\n",
      "jsonschema                    4.17.3\n",
      "jupyter                       1.0.0\n",
      "jupyter_client                7.4.9\n",
      "jupyter-console               6.6.3\n",
      "jupyter_core                  5.3.0\n",
      "jupyter-events                0.6.3\n",
      "jupyter-server                1.23.4\n",
      "jupyter_server_fileid         0.9.0\n",
      "jupyter_server_ydoc           0.8.0\n",
      "jupyter-ydoc                  0.2.4\n",
      "jupyterlab                    3.6.3\n",
      "jupyterlab-pygments           0.1.2\n",
      "jupyterlab_server             2.22.0\n",
      "jupyterlab-widgets            3.0.5\n",
      "kaleido                       0.2.1\n",
      "keras                         2.15.0\n",
      "keyring                       23.13.1\n",
      "kiwisolver                    1.4.4\n",
      "lazy_loader                   0.2\n",
      "lazy-object-proxy             1.6.0\n",
      "libarchive-c                  2.9\n",
      "libclang                      16.0.6\n",
      "libmambapy                    1.5.1\n",
      "linkify-it-py                 2.0.0\n",
      "llvmlite                      0.40.0\n",
      "lmdb                          1.4.1\n",
      "locket                        1.0.0\n",
      "lxml                          4.9.3\n",
      "lz4                           4.3.2\n",
      "Markdown                      3.4.1\n",
      "markdown-it-py                2.2.0\n",
      "MarkupSafe                    2.1.1\n",
      "matplotlib                    3.7.2\n",
      "matplotlib-inline             0.1.6\n",
      "mccabe                        0.7.0\n",
      "mdit-py-plugins               0.3.0\n",
      "mdurl                         0.1.0\n",
      "menuinst                      1.4.19\n",
      "mistune                       0.8.4\n",
      "mkl-fft                       1.3.8\n",
      "mkl-random                    1.2.4\n",
      "mkl-service                   2.4.0\n",
      "ml-dtypes                     0.2.0\n",
      "more-itertools                8.12.0\n",
      "mpmath                        1.3.0\n",
      "msgpack                       1.0.3\n",
      "multidict                     6.0.2\n",
      "multipledispatch              0.6.0\n",
      "multiprocess                  0.70.14\n",
      "munkres                       1.1.4\n",
      "mypy-extensions               1.0.0\n",
      "navigator-updater             0.4.0\n",
      "nba_api                       1.4.1\n",
      "nbclassic                     0.5.5\n",
      "nbclient                      0.5.13\n",
      "nbconvert                     6.5.4\n",
      "nbformat                      5.9.2\n",
      "nest-asyncio                  1.5.6\n",
      "networkx                      3.1\n",
      "nltk                          3.8.1\n",
      "notebook                      6.5.4\n",
      "notebook_shim                 0.2.2\n",
      "numba                         0.57.1\n",
      "numexpr                       2.8.4\n",
      "numpy                         1.24.3\n",
      "numpydoc                      1.5.0\n",
      "oauthlib                      3.2.2\n",
      "opencv-python                 4.9.0.80\n",
      "openpyxl                      3.0.10\n",
      "opt-einsum                    3.3.0\n",
      "packaging                     23.1\n",
      "pandas                        2.0.3\n",
      "pandocfilters                 1.5.0\n",
      "panel                         1.2.3\n",
      "param                         1.13.0\n",
      "paramiko                      2.8.1\n",
      "parsel                        1.6.0\n",
      "parso                         0.8.3\n",
      "partd                         1.4.0\n",
      "pathlib                       1.0.1\n",
      "pathspec                      0.10.3\n",
      "patsy                         0.5.3\n",
      "pep8                          1.7.1\n",
      "pexpect                       4.8.0\n",
      "pickleshare                   0.7.5\n",
      "Pillow                        9.4.0\n",
      "pip                           23.2.1\n",
      "pkce                          1.0.3\n",
      "pkginfo                       1.9.6\n",
      "platformdirs                  3.10.0\n",
      "plotly                        5.9.0\n",
      "pluggy                        1.0.0\n",
      "ply                           3.11\n",
      "poyo                          0.5.0\n",
      "prometheus-client             0.14.1\n",
      "prompt-toolkit                3.0.36\n",
      "Protego                       0.1.16\n",
      "protobuf                      3.20.3\n",
      "psutil                        5.9.0\n",
      "ptyprocess                    0.7.0\n",
      "pure-eval                     0.2.2\n",
      "py-cpuinfo                    8.0.0\n",
      "pyarrow                       11.0.0\n",
      "pyasn1                        0.4.8\n",
      "pyasn1-modules                0.2.8\n",
      "pycodestyle                   2.10.0\n",
      "pycosat                       0.6.4\n",
      "pycparser                     2.21\n",
      "pyct                          0.5.0\n",
      "pycurl                        7.45.2\n",
      "pydantic                      1.10.8\n",
      "PyDispatcher                  2.0.5\n",
      "pydocstyle                    6.3.0\n",
      "pyerfa                        2.0.0\n",
      "pyflakes                      3.0.1\n",
      "Pygments                      2.15.1\n",
      "PyJWT                         2.4.0\n",
      "pylint                        2.16.2\n",
      "pylint-venv                   2.3.0\n",
      "pyls-spyder                   0.4.0\n",
      "PyNaCl                        1.5.0\n",
      "pyodbc                        4.0.34\n",
      "pyOpenSSL                     23.2.0\n",
      "pyparsing                     3.0.9\n",
      "PyQt5                         5.15.7\n",
      "PyQt5-sip                     12.11.0\n",
      "PyQtWebEngine                 5.15.4\n",
      "pyrsistent                    0.18.0\n",
      "PySocks                       1.7.1\n",
      "pytest                        7.4.0\n",
      "python-dateutil               2.8.2\n",
      "python-dotenv                 0.21.0\n",
      "python-json-logger            2.0.7\n",
      "python-lsp-black              1.2.1\n",
      "python-lsp-jsonrpc            1.0.0\n",
      "python-lsp-server             1.7.2\n",
      "python-slugify                5.0.2\n",
      "python-snappy                 0.6.1\n",
      "pytoolconfig                  1.2.5\n",
      "pytz                          2023.3.post1\n",
      "pyviz-comms                   2.3.0\n",
      "PyWavelets                    1.4.1\n",
      "pywin32                       305.1\n",
      "pywin32-ctypes                0.2.0\n",
      "pywinpty                      2.0.10\n",
      "PyYAML                        6.0\n",
      "pyzmq                         23.2.0\n",
      "QDarkStyle                    3.0.2\n",
      "qstylizer                     0.2.2\n",
      "QtAwesome                     1.2.2\n",
      "qtconsole                     5.4.2\n",
      "QtPy                          2.2.0\n",
      "queuelib                      1.5.0\n",
      "randomuser                    1.6\n",
      "regex                         2022.7.9\n",
      "requests                      2.31.0\n",
      "requests-file                 1.5.1\n",
      "requests-oauthlib             1.3.1\n",
      "requests-toolbelt             1.0.0\n",
      "responses                     0.13.3\n",
      "rfc3339-validator             0.1.4\n",
      "rfc3986-validator             0.1.1\n",
      "rope                          1.7.0\n",
      "rsa                           4.9\n",
      "Rtree                         1.0.1\n",
      "ruamel.yaml                   0.17.21\n",
      "ruamel-yaml-conda             0.17.21\n",
      "s3fs                          2023.4.0\n",
      "safetensors                   0.3.2\n",
      "scikit-image                  0.20.0\n",
      "scikit-learn                  1.3.0\n",
      "scikit-learn-intelex          20230426.121932\n",
      "scipy                         1.11.1\n",
      "Scrapy                        2.8.0\n",
      "seaborn                       0.12.2\n",
      "Send2Trash                    1.8.0\n",
      "service-identity              18.1.0\n",
      "setuptools                    68.0.0\n",
      "sip                           6.6.2\n",
      "six                           1.16.0\n",
      "smart-open                    5.2.1\n",
      "sniffio                       1.2.0\n",
      "snowballstemmer               2.2.0\n",
      "sortedcontainers              2.4.0\n",
      "soupsieve                     2.4\n",
      "Sphinx                        5.0.2\n",
      "sphinxcontrib-applehelp       1.0.2\n",
      "sphinxcontrib-devhelp         1.0.2\n",
      "sphinxcontrib-htmlhelp        2.0.0\n",
      "sphinxcontrib-jsmath          1.0.1\n",
      "sphinxcontrib-qthelp          1.0.3\n",
      "sphinxcontrib-serializinghtml 1.1.5\n",
      "spyder                        5.4.3\n",
      "spyder-kernels                2.4.4\n",
      "SQLAlchemy                    1.4.39\n",
      "stack-data                    0.2.0\n",
      "statsmodels                   0.14.0\n",
      "sympy                         1.11.1\n",
      "tables                        3.8.0\n",
      "tabulate                      0.8.10\n",
      "TBB                           0.2\n",
      "tblib                         1.7.0\n",
      "tenacity                      8.2.2\n",
      "tensorboard                   2.15.1\n",
      "tensorboard-data-server       0.7.2\n",
      "tensorflow                    2.15.0\n",
      "tensorflow-estimator          2.15.0\n",
      "tensorflow-intel              2.15.0\n",
      "tensorflow-io-gcs-filesystem  0.31.0\n",
      "termcolor                     2.4.0\n",
      "terminado                     0.17.1\n",
      "text-unidecode                1.3\n",
      "textdistance                  4.2.1\n",
      "threadpoolctl                 2.2.0\n",
      "three-merge                   0.1.1\n",
      "tifffile                      2023.4.12\n",
      "tinycss2                      1.2.1\n",
      "tldextract                    3.2.0\n",
      "tokenizers                    0.13.2\n",
      "toml                          0.10.2\n",
      "tomlkit                       0.11.1\n",
      "toolz                         0.12.0\n",
      "tornado                       6.3.2\n",
      "tqdm                          4.65.0\n",
      "traitlets                     5.7.1\n",
      "transformers                  4.32.1\n",
      "Twisted                       22.10.0\n",
      "twisted-iocpsupport           1.0.2\n",
      "typing_extensions             4.7.1\n",
      "tzdata                        2023.3\n",
      "uc-micro-py                   1.0.1\n",
      "ujson                         5.4.0\n",
      "Unidecode                     1.2.0\n",
      "urllib3                       1.26.16\n",
      "w3lib                         1.21.0\n",
      "watchdog                      2.1.6\n",
      "wcwidth                       0.2.5\n",
      "webencodings                  0.5.1\n",
      "websocket-client              0.58.0\n",
      "Werkzeug                      2.2.3\n",
      "whatthepatch                  1.0.2\n",
      "wheel                         0.38.4\n",
      "widgetsnbextension            4.0.5\n",
      "win-inet-pton                 1.1.0\n",
      "wrapt                         1.14.1\n",
      "xarray                        2023.6.0\n",
      "xlwings                       0.29.1\n",
      "xxhash                        2.0.2\n",
      "xyzservices                   2022.9.0\n",
      "y-py                          0.5.9\n",
      "yapf                          0.31.0\n",
      "yarl                          1.8.1\n",
      "ypy-websocket                 0.8.2\n",
      "zict                          2.2.0\n",
      "zipp                          3.11.0\n",
      "zope.interface                5.4.0\n",
      "zstandard                     0.19.0\n"
     ]
    }
   ],
   "source": [
    "!pip list"
   ]
  },
  {
   "cell_type": "code",
   "execution_count": 3,
   "id": "b0124fb1-63d8-4b2e-b7c4-49163fa7c2c2",
   "metadata": {
    "tags": []
   },
   "outputs": [
    {
     "name": "stderr",
     "output_type": "stream",
     "text": [
      "C:\\Users\\Hp\\AppData\\Local\\Temp\\ipykernel_21496\\4232469594.py:2: DeprecationWarning: 'imghdr' is deprecated and slated for removal in Python 3.13\n",
      "  import imghdr\n"
     ]
    }
   ],
   "source": [
    "import cv2\n",
    "import imghdr"
   ]
  },
  {
   "cell_type": "raw",
   "id": "dc1a6ff5-160f-4b6c-bdad-37f8e3609e82",
   "metadata": {},
   "source": [
    "imghdr is for correcting image extensions"
   ]
  },
  {
   "cell_type": "code",
   "execution_count": 32,
   "id": "d5f0094e-ccee-4970-9f8a-1edd6295871e",
   "metadata": {
    "tags": []
   },
   "outputs": [],
   "source": [
    "data_dir=\"Downloads/data\"\n"
   ]
  },
  {
   "cell_type": "code",
   "execution_count": 33,
   "id": "eb69d4bf-4568-40fc-b7c4-3241f774b308",
   "metadata": {
    "tags": []
   },
   "outputs": [],
   "source": [
    "image_extns=[\"jpeg\",\"jpg\",\"bmp\",\"png\"]"
   ]
  },
  {
   "cell_type": "code",
   "execution_count": 35,
   "id": "da3b2554-1686-449e-99ab-e5d936afedcd",
   "metadata": {
    "tags": []
   },
   "outputs": [
    {
     "data": {
      "text/plain": [
       "['happy.zip', 'sad.zip']"
      ]
     },
     "execution_count": 35,
     "metadata": {},
     "output_type": "execute_result"
    }
   ],
   "source": [
    "os.listdir(data_dir)"
   ]
  },
  {
   "cell_type": "code",
   "execution_count": null,
   "id": "9804166b-3182-4805-93a1-86e7be27ea71",
   "metadata": {
    "tags": []
   },
   "outputs": [],
   "source": []
  },
  {
   "cell_type": "code",
   "execution_count": 48,
   "id": "13c231c3-5252-4ea2-a4b1-33d6fbf47af7",
   "metadata": {
    "tags": []
   },
   "outputs": [],
   "source": [
    "\n",
    "import zipfile\n",
    "with zipfile.ZipFile(\"C:/Users/Hp/Downloads/data/sad.zip\", 'r') as zip_ref:\n",
    "    zip_ref.extractall(\"Downloads/data/sad\")\n",
    "  \n"
   ]
  },
  {
   "cell_type": "code",
   "execution_count": null,
   "id": "594745a5-148a-45ad-b27d-f2320bc5b973",
   "metadata": {
    "tags": []
   },
   "outputs": [],
   "source": [
    "\n"
   ]
  },
  {
   "cell_type": "code",
   "execution_count": 51,
   "id": "001f0478-e0fc-4cbb-abce-0db56de7a0ba",
   "metadata": {
    "tags": []
   },
   "outputs": [
    {
     "data": {
      "text/plain": [
       "['.ipynb_checkpoints', 'happy', 'sad']"
      ]
     },
     "execution_count": 51,
     "metadata": {},
     "output_type": "execute_result"
    }
   ],
   "source": [
    "os.listdir(data_dir)"
   ]
  },
  {
   "cell_type": "code",
   "execution_count": 57,
   "id": "09583372-e80d-42b8-9928-572b12cfe206",
   "metadata": {
    "tags": []
   },
   "outputs": [],
   "source": [
    "\n",
    "for image_class in os.listdir(data_dir):\n",
    "    for image in os.listdir(os.path.join(data_dir,image_class)):\n",
    "                            image_path=os.path.join(data_dir,image_class,image) \n",
    "                            try:\n",
    "                                img=cv2.imread(image_path)\n",
    "                                tip=imghdr.what(image_path)\n",
    "                                if tip not in image_extns:\n",
    "                                    print(\"removed\")\n",
    "                                    os.remove(image_path)\n",
    "                            except Exception as e:\n",
    "                                print(\"issue with img {}\".format(image_path))\n",
    "        \n",
    "  "
   ]
  },
  {
   "cell_type": "code",
   "execution_count": 58,
   "id": "5abed40d-8fd7-4ecc-b144-9e6dd1560911",
   "metadata": {
    "tags": []
   },
   "outputs": [],
   "source": [
    "import tensorflow as tf"
   ]
  },
  {
   "cell_type": "code",
   "execution_count": 73,
   "id": "695ed2a5-c758-464f-8765-ab8c8ec657b6",
   "metadata": {
    "tags": []
   },
   "outputs": [
    {
     "name": "stdout",
     "output_type": "stream",
     "text": [
      "Found 179 files belonging to 2 classes.\n"
     ]
    }
   ],
   "source": [
    "data=tf.keras.utils.image_dataset_from_directory(data_dir)"
   ]
  },
  {
   "cell_type": "code",
   "execution_count": 60,
   "id": "2449c8f0-a1bc-44b3-8cee-efa184325eaf",
   "metadata": {},
   "outputs": [],
   "source": [
    "import numpy as np"
   ]
  },
  {
   "cell_type": "code",
   "execution_count": 61,
   "id": "79f9bf71-6457-4a5a-ae7d-94cf55d5e477",
   "metadata": {
    "tags": []
   },
   "outputs": [],
   "source": [
    "data_iterator=data.as_numpy_iterator()"
   ]
  },
  {
   "cell_type": "code",
   "execution_count": 62,
   "id": "27bf3819-41fc-48a5-b8f6-be693a729089",
   "metadata": {
    "tags": []
   },
   "outputs": [],
   "source": [
    "batch=data_iterator.next()"
   ]
  },
  {
   "cell_type": "code",
   "execution_count": 69,
   "id": "a2f7d67b-4008-420f-a85d-b7a422033edc",
   "metadata": {
    "tags": []
   },
   "outputs": [],
   "source": [
    "scaled=batch[0]/255"
   ]
  },
  {
   "cell_type": "code",
   "execution_count": 75,
   "id": "8560233a-f2e2-418c-8f60-3117259797ec",
   "metadata": {
    "tags": []
   },
   "outputs": [],
   "source": [
    "data=data.map(lambda x,y:(x/255,y))"
   ]
  },
  {
   "cell_type": "code",
   "execution_count": 76,
   "id": "4af7481d-96e5-42a3-a9eb-30db168d4558",
   "metadata": {
    "tags": []
   },
   "outputs": [
    {
     "data": {
      "text/plain": [
       "(array([[[[1.        , 0.6745098 , 0.7529412 ],\n",
       "          [0.9979779 , 0.6684436 , 0.746875  ],\n",
       "          [0.98878676, 0.6408701 , 0.71930146],\n",
       "          ...,\n",
       "          [0.9923407 , 0.62371325, 0.68645835],\n",
       "          [0.9954044 , 0.62677693, 0.6895221 ],\n",
       "          [0.99607843, 0.627451  , 0.6901961 ]],\n",
       " \n",
       "         [[0.9973039 , 0.6677696 , 0.746201  ],\n",
       "          [0.9956873 , 0.6627461 , 0.74117744],\n",
       "          [0.9883392 , 0.6399117 , 0.7183431 ],\n",
       "          ...,\n",
       "          [0.9919879 , 0.62371325, 0.6862819 ],\n",
       "          [0.9947883 , 0.62677693, 0.689214  ],\n",
       "          [0.9954044 , 0.627451  , 0.6898591 ]],\n",
       " \n",
       "         [[0.985049  , 0.63713235, 0.7155637 ],\n",
       "          [0.98527545, 0.636848  , 0.7152794 ],\n",
       "          [0.98630464, 0.6355555 , 0.7139869 ],\n",
       "          ...,\n",
       "          [0.9903842 , 0.62371325, 0.6854801 ],\n",
       "          [0.9919879 , 0.62677693, 0.6878138 ],\n",
       "          [0.9923407 , 0.627451  , 0.6883272 ]],\n",
       " \n",
       "         ...,\n",
       " \n",
       "         [[0.7266238 , 0.71878064, 0.7619179 ],\n",
       "          [0.7344066 , 0.72656345, 0.7697007 ],\n",
       "          [0.7697831 , 0.7619399 , 0.8050772 ],\n",
       "          ...,\n",
       "          [0.33688724, 0.19178921, 0.11727941],\n",
       "          [0.33382353, 0.18872549, 0.11421569],\n",
       "          [0.33314952, 0.18805148, 0.11354167]],\n",
       " \n",
       "         [[0.712837  , 0.70499384, 0.74813116],\n",
       "          [0.7211464 , 0.71330327, 0.7564405 ],\n",
       "          [0.7589164 , 0.75107324, 0.7942105 ],\n",
       "          ...,\n",
       "          [0.33382353, 0.18872549, 0.11421569],\n",
       "          [0.3307598 , 0.18566176, 0.11115196],\n",
       "          [0.33008578, 0.18498774, 0.11047794]],\n",
       " \n",
       "         [[0.70980394, 0.7019608 , 0.74509805],\n",
       "          [0.7182292 , 0.71038604, 0.7535233 ],\n",
       "          [0.75652575, 0.7486826 , 0.7918199 ],\n",
       "          ...,\n",
       "          [0.33314952, 0.18805148, 0.11354167],\n",
       "          [0.33008578, 0.18498774, 0.11047794],\n",
       "          [0.32941177, 0.18431373, 0.10980392]]],\n",
       " \n",
       " \n",
       "        [[[0.29803923, 0.3019608 , 0.24705882],\n",
       "          [0.29534313, 0.2992647 , 0.24436274],\n",
       "          [0.28308824, 0.2870098 , 0.23210785],\n",
       "          ...,\n",
       "          [0.3529412 , 0.30980393, 0.28627452],\n",
       "          [0.3529412 , 0.30980393, 0.28627452],\n",
       "          [0.3529412 , 0.30980393, 0.28627452]],\n",
       " \n",
       "         [[0.29568014, 0.2992647 , 0.24503677],\n",
       "          [0.29283926, 0.29642382, 0.24219587],\n",
       "          [0.27992612, 0.28351068, 0.22928275],\n",
       "          ...,\n",
       "          [0.35784099, 0.31455892, 0.28984207],\n",
       "          [0.35244355, 0.30955642, 0.28470793],\n",
       "          [0.35125613, 0.30845588, 0.28357843]],\n",
       " \n",
       "         [[0.2849571 , 0.2870098 , 0.2358456 ],\n",
       "          [0.281458  , 0.28351068, 0.23234648],\n",
       "          [0.26555297, 0.26760566, 0.21644144],\n",
       "          ...,\n",
       "          [0.38011283, 0.33617255, 0.3060583 ],\n",
       "          [0.35018167, 0.30843148, 0.27758718],\n",
       "          [0.34359682, 0.30232844, 0.27132353]],\n",
       " \n",
       "         ...,\n",
       " \n",
       "         [[0.6627451 , 0.5254902 , 0.4509804 ],\n",
       "          [0.66139704, 0.52414215, 0.44963235],\n",
       "          [0.6552696 , 0.5180147 , 0.4435049 ],\n",
       "          ...,\n",
       "          [0.43035722, 0.3832984 , 0.28918073],\n",
       "          [0.42415795, 0.37709913, 0.2829815 ],\n",
       "          [0.4227941 , 0.37573528, 0.28161764]],\n",
       " \n",
       "         [[0.6627451 , 0.5254902 , 0.4509804 ],\n",
       "          [0.66139704, 0.52414215, 0.44963235],\n",
       "          [0.6552696 , 0.5180147 , 0.4435049 ],\n",
       "          ...,\n",
       "          [0.41956237, 0.37250355, 0.2783859 ],\n",
       "          [0.41216633, 0.3651075 , 0.27098987],\n",
       "          [0.4105392 , 0.3634804 , 0.26936275]],\n",
       " \n",
       "         [[0.6627451 , 0.5254902 , 0.4509804 ],\n",
       "          [0.66139704, 0.52414215, 0.44963235],\n",
       "          [0.6552696 , 0.5180147 , 0.4435049 ],\n",
       "          ...,\n",
       "          [0.4171875 , 0.3701287 , 0.27601102],\n",
       "          [0.4095282 , 0.36246938, 0.2683517 ],\n",
       "          [0.40784314, 0.36078432, 0.26666668]]],\n",
       " \n",
       " \n",
       "        [[[0.70657253, 0.70657253, 0.6721092 ],\n",
       "          [0.7164    , 0.7164    , 0.6693412 ],\n",
       "          [0.66905004, 0.66905004, 0.6219912 ],\n",
       "          ...,\n",
       "          [0.5765303 , 0.5961382 , 0.58045185],\n",
       "          [0.6453613 , 0.66160446, 0.6560123 ],\n",
       "          [0.6212316 , 0.644761  , 0.6369179 ]],\n",
       " \n",
       "         [[0.7130407 , 0.70872086, 0.66518533],\n",
       "          [0.7401816 , 0.7358617 , 0.68713236],\n",
       "          [0.6699755 , 0.6656556 , 0.6164369 ],\n",
       "          ...,\n",
       "          [0.6105266 , 0.63013446, 0.61012834],\n",
       "          [0.6506826 , 0.66989136, 0.6520613 ],\n",
       "          [0.5971454 , 0.61851484, 0.60635185]],\n",
       " \n",
       "         [[0.71898985, 0.7111467 , 0.6640879 ],\n",
       "          [0.70914525, 0.7013021 , 0.65039456],\n",
       "          [0.6678943 , 0.66005117, 0.6090708 ],\n",
       "          ...,\n",
       "          [0.6251553 , 0.6447632 , 0.62123376],\n",
       "          [0.6146372 , 0.63424504, 0.61086136],\n",
       "          [0.59943956, 0.6190474 , 0.6033611 ]],\n",
       " \n",
       "         ...,\n",
       " \n",
       "         [[0.05992384, 0.07953168, 0.09129639],\n",
       "          [0.05348894, 0.07309678, 0.08486149],\n",
       "          [0.05583747, 0.07544532, 0.08721002],\n",
       "          ...,\n",
       "          [0.0349297 , 0.06630225, 0.07414539],\n",
       "          [0.04675293, 0.07790683, 0.08582285],\n",
       "          [0.0460478 , 0.06173407, 0.06565563]],\n",
       " \n",
       "         [[0.04258327, 0.06923768, 0.07395582],\n",
       "          [0.03091191, 0.05756633, 0.06228446],\n",
       "          [0.04489842, 0.07155283, 0.07627097],\n",
       "          ...,\n",
       "          [0.02936533, 0.05545295, 0.06505773],\n",
       "          [0.03120572, 0.05582527, 0.06591941],\n",
       "          [0.03900123, 0.0546875 , 0.06213235]],\n",
       " \n",
       "         [[0.03181057, 0.06710468, 0.06318311],\n",
       "          [0.02315063, 0.05844475, 0.05452318],\n",
       "          [0.01669204, 0.05198615, 0.04806459],\n",
       "          ...,\n",
       "          [0.0289686 , 0.04857644, 0.06034115],\n",
       "          [0.01395611, 0.03356395, 0.04532866],\n",
       "          [0.01838056, 0.03406683, 0.04583154]]],\n",
       " \n",
       " \n",
       "        ...,\n",
       " \n",
       " \n",
       "        [[[0.8980392 , 0.9098039 , 0.92941177],\n",
       "          [0.8980392 , 0.9098039 , 0.92941177],\n",
       "          [0.9019608 , 0.9137255 , 0.93333334],\n",
       "          ...,\n",
       "          [0.7546262 , 0.7820772 , 0.856587  ],\n",
       "          [0.7647059 , 0.7921569 , 0.8627451 ],\n",
       "          [0.7647059 , 0.7921569 , 0.8627451 ]],\n",
       " \n",
       "         [[0.8980392 , 0.9098039 , 0.92941177],\n",
       "          [0.8980392 , 0.9098039 , 0.92941177],\n",
       "          [0.9019608 , 0.9137255 , 0.93333334],\n",
       "          ...,\n",
       "          [0.7595995 , 0.7870505 , 0.8615603 ],\n",
       "          [0.76231617, 0.79454654, 0.8627451 ],\n",
       "          [0.76231617, 0.79454654, 0.8627451 ]],\n",
       " \n",
       "         [[0.8980392 , 0.9098039 , 0.92941177],\n",
       "          [0.8980392 , 0.9098039 , 0.92941177],\n",
       "          [0.9019608 , 0.9137255 , 0.93333334],\n",
       "          ...,\n",
       "          [0.7606618 , 0.78811276, 0.86262256],\n",
       "          [0.75281864, 0.7841912 , 0.858701  ],\n",
       "          [0.75281864, 0.7841912 , 0.858701  ]],\n",
       " \n",
       "         ...,\n",
       " \n",
       "         [[0.7116761 , 0.69617367, 0.68447024],\n",
       "          [0.6916145 , 0.68765223, 0.67993116],\n",
       "          [0.8486462 , 0.84686923, 0.84775776],\n",
       "          ...,\n",
       "          [0.3818345 , 0.15401587, 0.15021685],\n",
       "          [0.3837206 , 0.16392894, 0.16791178],\n",
       "          [0.4052251 , 0.18021503, 0.18591692]],\n",
       " \n",
       "         [[0.71719134, 0.70103735, 0.68561244],\n",
       "          [0.700147  , 0.6922732 , 0.68107814],\n",
       "          [0.8263892 , 0.8263892 , 0.82461226],\n",
       "          ...,\n",
       "          [0.35210344, 0.15457453, 0.14004241],\n",
       "          [0.3522308 , 0.14506166, 0.14046606],\n",
       "          [0.373123  , 0.16595387, 0.16135828]],\n",
       " \n",
       "         [[0.71299356, 0.6933857 , 0.6749162 ],\n",
       "          [0.70748985, 0.7006659 , 0.6841974 ],\n",
       "          [0.8032476 , 0.8080815 , 0.8038876 ],\n",
       "          ...,\n",
       "          [0.3662995 , 0.16360343, 0.14684819],\n",
       "          [0.36669537, 0.16669539, 0.15493068],\n",
       "          [0.337658  , 0.14390798, 0.12901826]]],\n",
       " \n",
       " \n",
       "        [[[0.11711091, 0.11318934, 0.2778952 ],\n",
       "          [0.09964767, 0.0957261 , 0.26043198],\n",
       "          [0.10196079, 0.09803922, 0.2627451 ],\n",
       "          ...,\n",
       "          [0.12156863, 0.12156863, 0.27058825],\n",
       "          [0.12156863, 0.12156863, 0.27058825],\n",
       "          [0.12156863, 0.12156863, 0.27058825]],\n",
       " \n",
       "         [[0.11711091, 0.11318934, 0.2778952 ],\n",
       "          [0.09964767, 0.0957261 , 0.26043198],\n",
       "          [0.10196079, 0.09803922, 0.2627451 ],\n",
       "          ...,\n",
       "          [0.12156863, 0.12156863, 0.27058825],\n",
       "          [0.12156863, 0.12156863, 0.27058825],\n",
       "          [0.12156863, 0.12156863, 0.27058825]],\n",
       " \n",
       "         [[0.11372549, 0.10980392, 0.27450982],\n",
       "          [0.1024663 , 0.09854473, 0.26325062],\n",
       "          [0.10541645, 0.10149489, 0.26620075],\n",
       "          ...,\n",
       "          [0.12156863, 0.12156863, 0.27058825],\n",
       "          [0.12156863, 0.12156863, 0.27058825],\n",
       "          [0.12156863, 0.12156863, 0.27058825]],\n",
       " \n",
       "         ...,\n",
       " \n",
       "         [[0.09186581, 0.13108149, 0.2683364 ],\n",
       "          [0.10611213, 0.14532782, 0.28258273],\n",
       "          [0.09917279, 0.13838848, 0.27564338],\n",
       "          ...,\n",
       "          [0.14829963, 0.17967218, 0.37182903],\n",
       "          [0.10291054, 0.1342831 , 0.32643995],\n",
       "          [0.10474878, 0.11259191, 0.3125919 ]],\n",
       " \n",
       "         [[0.07593444, 0.11337316, 0.25228354],\n",
       "          [0.09018076, 0.12761949, 0.2661273 ],\n",
       "          [0.08324142, 0.12068015, 0.25910464],\n",
       "          ...,\n",
       "          [0.18003982, 0.21141237, 0.40356925],\n",
       "          [0.13351716, 0.16488971, 0.35704657],\n",
       "          [0.12068015, 0.12941177, 0.32941177]],\n",
       " \n",
       "         [[0.09019608, 0.10196079, 0.2627451 ],\n",
       "          [0.09019608, 0.10196079, 0.2627451 ],\n",
       "          [0.09019608, 0.10196079, 0.2627451 ],\n",
       "          ...,\n",
       "          [0.1713082 , 0.20268077, 0.39483762],\n",
       "          [0.15062806, 0.1820006 , 0.3741575 ],\n",
       "          [0.12602635, 0.1573989 , 0.34955576]]],\n",
       " \n",
       " \n",
       "        [[[0.89411765, 0.9098039 , 0.92156863],\n",
       "          [0.89455426, 0.91024053, 0.92200524],\n",
       "          [0.8980392 , 0.9137255 , 0.9254902 ],\n",
       "          ...,\n",
       "          [0.7657169 , 0.7978171 , 0.86941636],\n",
       "          [0.76862746, 0.8       , 0.8745098 ],\n",
       "          [0.76862746, 0.8       , 0.8745098 ]],\n",
       " \n",
       "         [[0.8942009 , 0.9098872 , 0.9216519 ],\n",
       "          [0.89654857, 0.91223484, 0.92399955],\n",
       "          [0.8980392 , 0.9137255 , 0.9254902 ],\n",
       "          ...,\n",
       "          [0.7584058 , 0.790506  , 0.86210525],\n",
       "          [0.7596507 , 0.7910233 , 0.8655331 ],\n",
       "          [0.7596507 , 0.7910233 , 0.8655331 ]],\n",
       " \n",
       "         [[0.8953473 , 0.9110336 , 0.92279834],\n",
       "          [0.8980392 , 0.9137255 , 0.9254902 ],\n",
       "          [0.89824814, 0.9139344 , 0.9256991 ],\n",
       "          ...,\n",
       "          [0.75019014, 0.78229034, 0.85388964],\n",
       "          [0.7495634 , 0.78093594, 0.85544574],\n",
       "          [0.7495634 , 0.78093594, 0.85544574]],\n",
       " \n",
       "         ...,\n",
       " \n",
       "         [[0.6674542 , 0.6635326 , 0.64784634],\n",
       "          [0.7261461 , 0.72222453, 0.70653826],\n",
       "          [0.80861807, 0.8046965 , 0.7890102 ],\n",
       "          ...,\n",
       "          [0.39511102, 0.179869  , 0.18379056],\n",
       "          [0.39803922, 0.1714614 , 0.16841298],\n",
       "          [0.39999652, 0.17254554, 0.16862397]],\n",
       " \n",
       "         [[0.6732584 , 0.66933686, 0.6536506 ],\n",
       "          [0.7227069 , 0.71878535, 0.7030991 ],\n",
       "          [0.8056268 , 0.80170524, 0.78601897],\n",
       "          ...,\n",
       "          [0.37694207, 0.16170004, 0.16562161],\n",
       "          [0.37954196, 0.15296416, 0.14991575],\n",
       "          [0.38203028, 0.1545793 , 0.15065773]],\n",
       " \n",
       "         [[0.67974114, 0.6758196 , 0.66013324],\n",
       "          [0.7224571 , 0.71853554, 0.70284927],\n",
       "          [0.80379903, 0.79987746, 0.7841912 ],\n",
       "          ...,\n",
       "          [0.358318  , 0.14307599, 0.14699756],\n",
       "          [0.3638327 , 0.13725491, 0.13420649],\n",
       "          [0.36848193, 0.14103094, 0.13710937]]]], dtype=float32),\n",
       " array([0, 1, 1, 1, 1, 1, 0, 1, 0, 1, 1, 0, 0, 1, 1, 0, 0, 0, 0, 1, 1, 1,\n",
       "        1, 1, 1, 0, 1, 1, 1, 0, 0, 0]))"
      ]
     },
     "execution_count": 76,
     "metadata": {},
     "output_type": "execute_result"
    }
   ],
   "source": [
    "data.as_numpy_iterator().next()"
   ]
  },
  {
   "cell_type": "code",
   "execution_count": 78,
   "id": "c8f7b17e-fd09-42d4-8be3-3980dcccbabc",
   "metadata": {
    "tags": []
   },
   "outputs": [],
   "source": [
    "train_size=int(len(data)*.7)"
   ]
  },
  {
   "cell_type": "code",
   "execution_count": 79,
   "id": "7a724d0f-ab69-4ae5-8b10-dadeff20ba1e",
   "metadata": {
    "tags": []
   },
   "outputs": [
    {
     "data": {
      "text/plain": [
       "4"
      ]
     },
     "execution_count": 79,
     "metadata": {},
     "output_type": "execute_result"
    }
   ],
   "source": [
    "train_size"
   ]
  },
  {
   "cell_type": "code",
   "execution_count": 81,
   "id": "ad34cbc4-7211-4bd8-9404-db90a5adbc6b",
   "metadata": {
    "tags": []
   },
   "outputs": [],
   "source": [
    "val_size=int(len(data)*.2)"
   ]
  },
  {
   "cell_type": "code",
   "execution_count": 86,
   "id": "e087e379-65c1-43df-8177-cab4aaeee46b",
   "metadata": {
    "tags": []
   },
   "outputs": [],
   "source": [
    "test_size=int(len(data)*.1)+1"
   ]
  },
  {
   "cell_type": "code",
   "execution_count": 87,
   "id": "69967ed2-58ea-44db-b185-cc1c1ebcdd13",
   "metadata": {
    "tags": []
   },
   "outputs": [],
   "source": [
    "train=data.take(train_size)\n",
    "val=data.skip(train_size).take(val_size)\n",
    "test=data.skip(train_size+val_size).take(test_size)"
   ]
  },
  {
   "cell_type": "code",
   "execution_count": 88,
   "id": "87b3bbd0-5fa9-46ac-aa11-e843dddc1cbb",
   "metadata": {
    "tags": []
   },
   "outputs": [],
   "source": [
    "from tensorflow.keras.models import Sequential\n",
    "from tensorflow.keras.layers import Conv2D,MaxPooling2D,Flatten,Dense,Dropout"
   ]
  },
  {
   "cell_type": "code",
   "execution_count": 89,
   "id": "c3bde5f0-26c0-435d-8686-4574dc8046f1",
   "metadata": {
    "tags": []
   },
   "outputs": [
    {
     "name": "stdout",
     "output_type": "stream",
     "text": [
      "WARNING:tensorflow:From C:\\Users\\Hp\\anaconda3\\Lib\\site-packages\\keras\\src\\backend.py:873: The name tf.get_default_graph is deprecated. Please use tf.compat.v1.get_default_graph instead.\n",
      "\n"
     ]
    }
   ],
   "source": [
    "model=Sequential()"
   ]
  },
  {
   "cell_type": "code",
   "execution_count": 93,
   "id": "6c85c568-e02d-4443-9058-4e1673f9844d",
   "metadata": {
    "tags": []
   },
   "outputs": [
    {
     "name": "stdout",
     "output_type": "stream",
     "text": [
      "WARNING:tensorflow:From C:\\Users\\Hp\\anaconda3\\Lib\\site-packages\\keras\\src\\layers\\pooling\\max_pooling2d.py:161: The name tf.nn.max_pool is deprecated. Please use tf.nn.max_pool2d instead.\n",
      "\n"
     ]
    }
   ],
   "source": [
    "model.add(Conv2D(32,(3,3),1,activation=\"relu\",input_shape=(256,256,3)))\n",
    "model.add(MaxPooling2D(2,2))\n",
    "model.add(Conv2D(64,(3,3),1,activation=\"relu\",input_shape=(256,256,3)))\n",
    "model.add(MaxPooling2D(2,2))\n",
    "model.add(Conv2D(32,(3,3),1,activation=\"relu\",input_shape=(256,256,3)))\n",
    "model.add(MaxPooling2D(2,2))\n",
    "model.add(Flatten())\n",
    "model.add(Dense(256,activation=\"relu\")),\n",
    "model.add(Dense(1,activation=\"sigmoid\"))\n",
    "\n",
    "          "
   ]
  },
  {
   "cell_type": "code",
   "execution_count": 94,
   "id": "b6cc1949-3fe5-433a-baad-54549e2dd350",
   "metadata": {
    "tags": []
   },
   "outputs": [
    {
     "name": "stdout",
     "output_type": "stream",
     "text": [
      "WARNING:tensorflow:From C:\\Users\\Hp\\anaconda3\\Lib\\site-packages\\keras\\src\\optimizers\\__init__.py:309: The name tf.train.Optimizer is deprecated. Please use tf.compat.v1.train.Optimizer instead.\n",
      "\n"
     ]
    }
   ],
   "source": [
    "model.compile(optimizer=\"adam\",loss=tf.losses.BinaryCrossentropy(),metrics=\"accuracy\")"
   ]
  },
  {
   "cell_type": "code",
   "execution_count": 95,
   "id": "fd5a24c6-e9e7-4273-aa48-47060bf5225b",
   "metadata": {
    "tags": []
   },
   "outputs": [
    {
     "name": "stdout",
     "output_type": "stream",
     "text": [
      "Model: \"sequential\"\n",
      "_________________________________________________________________\n",
      " Layer (type)                Output Shape              Param #   \n",
      "=================================================================\n",
      " conv2d (Conv2D)             (None, 254, 254, 32)      896       \n",
      "                                                                 \n",
      " max_pooling2d (MaxPooling2  (None, 127, 127, 32)      0         \n",
      " D)                                                              \n",
      "                                                                 \n",
      " conv2d_1 (Conv2D)           (None, 125, 125, 64)      18496     \n",
      "                                                                 \n",
      " max_pooling2d_1 (MaxPoolin  (None, 62, 62, 64)        0         \n",
      " g2D)                                                            \n",
      "                                                                 \n",
      " conv2d_2 (Conv2D)           (None, 60, 60, 32)        18464     \n",
      "                                                                 \n",
      " max_pooling2d_2 (MaxPoolin  (None, 30, 30, 32)        0         \n",
      " g2D)                                                            \n",
      "                                                                 \n",
      " flatten (Flatten)           (None, 28800)             0         \n",
      "                                                                 \n",
      " dense (Dense)               (None, 256)               7373056   \n",
      "                                                                 \n",
      " dense_1 (Dense)             (None, 1)                 257       \n",
      "                                                                 \n",
      "=================================================================\n",
      "Total params: 7411169 (28.27 MB)\n",
      "Trainable params: 7411169 (28.27 MB)\n",
      "Non-trainable params: 0 (0.00 Byte)\n",
      "_________________________________________________________________\n"
     ]
    }
   ],
   "source": [
    "model.summary()"
   ]
  },
  {
   "cell_type": "code",
   "execution_count": 97,
   "id": "d60b8073-fddf-4bc8-bf62-c8b7debc1e38",
   "metadata": {
    "tags": []
   },
   "outputs": [],
   "source": [
    "logdir=\"logs\"\n",
    "tensorboard_callback=tf.keras.callbacks.TensorBoard(log_dir=logdir)"
   ]
  },
  {
   "cell_type": "code",
   "execution_count": 103,
   "id": "49bc802d-36c8-4bfc-96e3-5600925a2fe0",
   "metadata": {
    "tags": []
   },
   "outputs": [
    {
     "name": "stdout",
     "output_type": "stream",
     "text": [
      "Epoch 1/20\n",
      "WARNING:tensorflow:From C:\\Users\\Hp\\anaconda3\\Lib\\site-packages\\keras\\src\\utils\\tf_utils.py:492: The name tf.ragged.RaggedTensorValue is deprecated. Please use tf.compat.v1.ragged.RaggedTensorValue instead.\n",
      "\n",
      "WARNING:tensorflow:From C:\\Users\\Hp\\anaconda3\\Lib\\site-packages\\keras\\src\\engine\\base_layer_utils.py:384: The name tf.executing_eagerly_outside_functions is deprecated. Please use tf.compat.v1.executing_eagerly_outside_functions instead.\n",
      "\n",
      "4/4 [==============================] - 7s 1s/step - loss: 1.6571 - accuracy: 0.5312 - val_loss: 0.6700 - val_accuracy: 0.6875\n",
      "Epoch 2/20\n",
      "4/4 [==============================] - 3s 607ms/step - loss: 0.7501 - accuracy: 0.5312 - val_loss: 0.5595 - val_accuracy: 0.7812\n",
      "Epoch 3/20\n",
      "4/4 [==============================] - 3s 654ms/step - loss: 0.6449 - accuracy: 0.6250 - val_loss: 0.5703 - val_accuracy: 0.7188\n",
      "Epoch 4/20\n",
      "4/4 [==============================] - 3s 607ms/step - loss: 0.5660 - accuracy: 0.7109 - val_loss: 0.3728 - val_accuracy: 0.9375\n",
      "Epoch 5/20\n",
      "4/4 [==============================] - 3s 593ms/step - loss: 0.6198 - accuracy: 0.7031 - val_loss: 0.7572 - val_accuracy: 0.6250\n",
      "Epoch 6/20\n",
      "4/4 [==============================] - 3s 598ms/step - loss: 0.5744 - accuracy: 0.7031 - val_loss: 0.4295 - val_accuracy: 0.7812\n",
      "Epoch 7/20\n",
      "4/4 [==============================] - 3s 630ms/step - loss: 0.4527 - accuracy: 0.7891 - val_loss: 0.4430 - val_accuracy: 0.8750\n",
      "Epoch 8/20\n",
      "4/4 [==============================] - 3s 643ms/step - loss: 0.3782 - accuracy: 0.8438 - val_loss: 0.2559 - val_accuracy: 0.9062\n",
      "Epoch 9/20\n",
      "4/4 [==============================] - 3s 719ms/step - loss: 0.3308 - accuracy: 0.8516 - val_loss: 0.2104 - val_accuracy: 0.9688\n",
      "Epoch 10/20\n",
      "4/4 [==============================] - 3s 631ms/step - loss: 0.2794 - accuracy: 0.8984 - val_loss: 0.2531 - val_accuracy: 0.8438\n",
      "Epoch 11/20\n",
      "4/4 [==============================] - 3s 629ms/step - loss: 0.2330 - accuracy: 0.8594 - val_loss: 0.2278 - val_accuracy: 0.8750\n",
      "Epoch 12/20\n",
      "4/4 [==============================] - 3s 634ms/step - loss: 0.1589 - accuracy: 0.9531 - val_loss: 0.1403 - val_accuracy: 0.9375\n",
      "Epoch 13/20\n",
      "4/4 [==============================] - 3s 664ms/step - loss: 0.1329 - accuracy: 0.9609 - val_loss: 0.1024 - val_accuracy: 0.9688\n",
      "Epoch 14/20\n",
      "4/4 [==============================] - 3s 674ms/step - loss: 0.0790 - accuracy: 0.9766 - val_loss: 0.0516 - val_accuracy: 1.0000\n",
      "Epoch 15/20\n",
      "4/4 [==============================] - 3s 642ms/step - loss: 0.0608 - accuracy: 0.9922 - val_loss: 0.0264 - val_accuracy: 1.0000\n",
      "Epoch 16/20\n",
      "4/4 [==============================] - 3s 637ms/step - loss: 0.0285 - accuracy: 1.0000 - val_loss: 0.0217 - val_accuracy: 1.0000\n",
      "Epoch 17/20\n",
      "4/4 [==============================] - 3s 627ms/step - loss: 0.0195 - accuracy: 1.0000 - val_loss: 0.0482 - val_accuracy: 0.9688\n",
      "Epoch 18/20\n",
      "4/4 [==============================] - 3s 679ms/step - loss: 0.0118 - accuracy: 1.0000 - val_loss: 0.0178 - val_accuracy: 1.0000\n",
      "Epoch 19/20\n",
      "4/4 [==============================] - 3s 695ms/step - loss: 0.0100 - accuracy: 1.0000 - val_loss: 0.0091 - val_accuracy: 1.0000\n",
      "Epoch 20/20\n",
      "4/4 [==============================] - 4s 832ms/step - loss: 0.0214 - accuracy: 0.9922 - val_loss: 0.0117 - val_accuracy: 1.0000\n"
     ]
    }
   ],
   "source": [
    "history=model.fit(train,epochs=20,validation_data=val,callbacks=[tensorboard_callback])"
   ]
  },
  {
   "cell_type": "code",
   "execution_count": 104,
   "id": "2b85b0a1-9c55-4efa-bbe0-0d5953b18e2d",
   "metadata": {
    "tags": []
   },
   "outputs": [],
   "source": [
    "from tensorflow.keras.metrics import Precision,Recall,BinaryAccuracy"
   ]
  },
  {
   "cell_type": "code",
   "execution_count": 105,
   "id": "64c69448-6035-48e0-9cf8-f61171fc0ad2",
   "metadata": {
    "tags": []
   },
   "outputs": [],
   "source": [
    "pre=Precision()\n",
    "re=Recall()\n",
    "acc=BinaryAccuracy()"
   ]
  },
  {
   "cell_type": "code",
   "execution_count": 106,
   "id": "15b8240f-cf48-43f7-b059-7f77f5cf43cc",
   "metadata": {
    "tags": []
   },
   "outputs": [
    {
     "name": "stdout",
     "output_type": "stream",
     "text": [
      "1/1 [==============================] - 1s 642ms/step\n"
     ]
    }
   ],
   "source": [
    "for batch in test.as_numpy_iterator():\n",
    "    X,y=batch\n",
    "    yhat=model.predict(X)\n",
    "    pre.update_state(y,yhat)\n",
    "    re.update_state(y,yhat)\n",
    "    acc.update_state(y,yhat)"
   ]
  },
  {
   "cell_type": "code",
   "execution_count": 107,
   "id": "4fbf390d-3b80-4dab-a2a2-71d5189d2e8a",
   "metadata": {
    "tags": []
   },
   "outputs": [
    {
     "name": "stdout",
     "output_type": "stream",
     "text": [
      "tf.Tensor(1.0, shape=(), dtype=float32)\n"
     ]
    }
   ],
   "source": [
    "print(pre.result())"
   ]
  },
  {
   "cell_type": "code",
   "execution_count": 145,
   "id": "d0de97af-397f-4012-9090-114ee9c6b2f2",
   "metadata": {
    "tags": []
   },
   "outputs": [],
   "source": [
    "def ans(yhat):\n",
    "    if yhat<.5:\n",
    "        print(\"happy\")\n",
    "    else:\n",
    "        print(\"sa\")"
   ]
  },
  {
   "cell_type": "code",
   "execution_count": 158,
   "id": "85caf8ba-ee5e-4e1b-9490-e2eea29871b3",
   "metadata": {
    "tags": []
   },
   "outputs": [],
   "source": [
    "from tensorflow.keras.models import load_model"
   ]
  },
  {
   "cell_type": "code",
   "execution_count": 157,
   "id": "d8c22a58-fabf-429e-abd7-c56d0ed56d32",
   "metadata": {
    "tags": []
   },
   "outputs": [],
   "source": [
    "model.save(os.path.join(\"models\",\"H.S.IMAGECLASSIFIER.h5\"))"
   ]
  },
  {
   "cell_type": "code",
   "execution_count": null,
   "id": "a33b546e-ceda-4cdd-8b74-3857a2da9ff6",
   "metadata": {},
   "outputs": [],
   "source": []
  }
 ],
 "metadata": {
  "kernelspec": {
   "display_name": "Python 3 (ipykernel)",
   "language": "python",
   "name": "python3"
  },
  "language_info": {
   "codemirror_mode": {
    "name": "ipython",
    "version": 3
   },
   "file_extension": ".py",
   "mimetype": "text/x-python",
   "name": "python",
   "nbconvert_exporter": "python",
   "pygments_lexer": "ipython3",
   "version": "3.11.5"
  }
 },
 "nbformat": 4,
 "nbformat_minor": 5
}
